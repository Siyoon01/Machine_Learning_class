{
  "nbformat": 4,
  "nbformat_minor": 0,
  "metadata": {
    "colab": {
      "provenance": []
    },
    "kernelspec": {
      "name": "python3",
      "display_name": "Python 3"
    },
    "language_info": {
      "name": "python"
    }
  },
  "cells": [
    {
      "cell_type": "code",
      "execution_count": 6,
      "metadata": {
        "colab": {
          "base_uri": "https://localhost:8080/"
        },
        "id": "d87ptSCmQPHm",
        "outputId": "2ee7c539-da4a-4626-be5e-350e221c3406"
      },
      "outputs": [
        {
          "output_type": "stream",
          "name": "stdout",
          "text": [
            "=== Test Accuracy ===\n",
            "Decision Tree : 0.9769\n",
            "Random Forest : 0.9653\n",
            "Logistic Reg. : 0.8006\n"
          ]
        }
      ],
      "source": [
        "import pandas as pd\n",
        "from sklearn.model_selection import train_test_split\n",
        "from sklearn.tree import DecisionTreeClassifier\n",
        "from sklearn.ensemble import RandomForestClassifier\n",
        "from sklearn.linear_model import LogisticRegression\n",
        "from sklearn.metrics import accuracy_score\n",
        "from sklearn.preprocessing import OrdinalEncoder\n",
        "\n",
        "# -----------------------------\n",
        "# 1) 데이터 준비\n",
        "# -----------------------------\n",
        "\n",
        "df = pd.read_csv(\"/content/drive/MyDrive/Colab Notebooks/car_evaluation.csv\").dropna()\n",
        "\n",
        "# 데이터 인코딩\n",
        "encoder = OrdinalEncoder(categories=[['vhigh', 'high', 'med', 'low'],\n",
        "                                     ['vhigh', 'high', 'med', 'low'],\n",
        "                                     ['2', '3', '4', '5more'],\n",
        "                                     ['2', '4', 'more'],\n",
        "                                     ['small', 'med', 'big'],\n",
        "                                     ['low', 'med', 'high'],\n",
        "                                     ['unacc', 'acc', 'good', 'vgood']])\n",
        "df_encoded = encoder.fit_transform(df)\n",
        "df_encoded = pd.DataFrame(df_encoded, columns=df.columns)\n",
        "\n",
        "\n",
        "X = df_encoded.drop(columns=[\"output\"])\n",
        "y = df_encoded[\"output\"]\n",
        "\n",
        "\n",
        "X_train, X_test, y_train, y_test = train_test_split(\n",
        "    X, y, test_size=0.2, stratify=y, random_state=42\n",
        ")\n",
        "\n",
        "# -----------------------------\n",
        "# 2) 모델 구성\n",
        "# -----------------------------\n",
        "\n",
        "dt = DecisionTreeClassifier(random_state=42)\n",
        "rf = RandomForestClassifier(n_estimators=200, random_state=42)\n",
        "lr = LogisticRegression(max_iter=500)\n",
        "\n",
        "\n",
        "# -----------------------------\n",
        "# 3) 모델 학습\n",
        "# -----------------------------\n",
        "\n",
        "dt.fit(X_train, y_train)\n",
        "rf.fit(X_train, y_train)\n",
        "lr.fit(X_train, y_train)\n",
        "\n",
        "\n",
        "# -----------------------------\n",
        "# 4) 모델 평가\n",
        "# -----------------------------\n",
        "\n",
        "dt_acc = accuracy_score(y_test, dt.predict(X_test))\n",
        "rf_acc = accuracy_score(y_test, rf.predict(X_test))\n",
        "lr_acc = accuracy_score(y_test, lr.predict(X_test))\n",
        "\n",
        "print(\"=== Test Accuracy ===\")\n",
        "print(f\"Decision Tree : {dt_acc:.4f}\")\n",
        "print(f\"Random Forest : {rf_acc:.4f}\")\n",
        "print(f\"Logistic Reg. : {lr_acc:.4f}\")"
      ]
    }
  ]
}
