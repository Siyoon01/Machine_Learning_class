{
  "nbformat": 4,
  "nbformat_minor": 0,
  "metadata": {
    "colab": {
      "provenance": []
    },
    "kernelspec": {
      "name": "python3",
      "display_name": "Python 3"
    },
    "language_info": {
      "name": "python"
    }
  },
  "cells": [
    {
      "cell_type": "code",
      "execution_count": null,
      "metadata": {
        "colab": {
          "base_uri": "https://localhost:8080/"
        },
        "id": "LrfhCL-McwSo",
        "outputId": "bfae9d66-dea6-463a-ee87-6e1e8aa2efc6"
      },
      "outputs": [
        {
          "output_type": "stream",
          "name": "stdout",
          "text": [
            "             Glucose  BloodPressure  SkinThickness  Insulin   BMI  \\\n",
            "Pregnancies                                                         \n",
            "6                148             72             35        0  33.6   \n",
            "1                 85             66             29        0  26.6   \n",
            "8                183             64              0        0  23.3   \n",
            "1                 89             66             23       94  28.1   \n",
            "0                137             40             35      168  43.1   \n",
            "...              ...            ...            ...      ...   ...   \n",
            "10               101             76             48      180  32.9   \n",
            "2                122             70             27        0  36.8   \n",
            "5                121             72             23      112  26.2   \n",
            "1                126             60              0        0  30.1   \n",
            "1                 93             70             31        0  30.4   \n",
            "\n",
            "             DiabetesPedigreeFunction  Age  \n",
            "Pregnancies                                 \n",
            "6                               0.627   50  \n",
            "1                               0.351   31  \n",
            "8                               0.672   32  \n",
            "1                               0.167   21  \n",
            "0                               2.288   33  \n",
            "...                               ...  ...  \n",
            "10                              0.171   63  \n",
            "2                               0.340   27  \n",
            "5                               0.245   30  \n",
            "1                               0.349   47  \n",
            "1                               0.315   23  \n",
            "\n",
            "[768 rows x 7 columns]\n"
          ]
        }
      ],
      "source": [
        "import numpy as np\n",
        "import pandas as pd\n",
        "import seaborn as sns\n",
        "from sklearn.model_selection import train_test_split\n",
        "import tensorflow as tf\n",
        "from tensorflow import keras\n",
        "from sklearn.model_selection import train_test_split\n",
        "from sklearn.linear_model import LinearRegression\n",
        "from sklearn.metrics import mean_squared_error, r2_score\n",
        "from sklearn.model_selection import train_test_split\n",
        "\n",
        "df = pd.read_csv(\"/content/drive/MyDrive/Colab Notebooks/ML/diabetes.csv\", index_col=0)\n",
        "df = df.drop('Outcome', axis=1)\n",
        "print(df)"
      ]
    },
    {
      "cell_type": "code",
      "source": [
        "X = df.drop('BMI',axis=1)\n",
        "y = df[\"BMI\"]"
      ],
      "metadata": {
        "id": "w2eJw61W0g-0"
      },
      "execution_count": null,
      "outputs": []
    },
    {
      "cell_type": "code",
      "source": [
        "X_train, X_test, y_train, y_test = train_test_split(\n",
        "    X, y, test_size=0.2, shuffle=True, random_state=42\n",
        "    )\n",
        "print(X_train.shape, y_train.shape)\n",
        "print(X_test.shape, y_test.shape)"
      ],
      "metadata": {
        "colab": {
          "base_uri": "https://localhost:8080/"
        },
        "id": "VXtRpxKd2RPy",
        "outputId": "694db5ae-a358-4a8d-e223-16d9d2b38001"
      },
      "execution_count": null,
      "outputs": [
        {
          "output_type": "stream",
          "name": "stdout",
          "text": [
            "(614, 6) (614,)\n",
            "(154, 6) (154,)\n"
          ]
        }
      ]
    },
    {
      "cell_type": "markdown",
      "source": [
        "# 선형회귀\n",
        "### LinearRegression"
      ],
      "metadata": {
        "id": "u_oFYAcm2qHy"
      }
    },
    {
      "cell_type": "code",
      "source": [
        "from sklearn.linear_model import LinearRegression\n",
        "from sklearn.metrics import mean_squared_error\n",
        "\n",
        "model = LinearRegression()\n",
        "model.fit(X_train, y_train)\n",
        "ly_preds = model.predict(X_test)\n",
        "\n",
        "print('평균 제곱 오차', mean_squared_error(ly_preds, y_test))\n",
        "\n",
        "def mse_np(actual, predicted):\n",
        "    return np.mean((np.array(actual) - np.array(predicted)) ** 2)\n",
        "\n",
        "print('평균 제곱 오차', mse_np(ly_preds, y_test))\n",
        "\n",
        "def mse(actual, predicted):\n",
        "    sum_square_error = sum((a - p) ** 2 for a, p in zip(actual, predicted))\n",
        "    mean_square_error = sum_square_error / len(actual)\n",
        "    return mean_square_error\n",
        "\n",
        "print('평균 제곱 오차', mse(ly_preds, y_test))"
      ],
      "metadata": {
        "colab": {
          "base_uri": "https://localhost:8080/"
        },
        "id": "_dcW9jGV2vz6",
        "outputId": "d78be2f8-fea6-4aa9-b37f-e3211a4ba172"
      },
      "execution_count": null,
      "outputs": [
        {
          "output_type": "stream",
          "name": "stdout",
          "text": [
            "평균 제곱 오차 52.10225730069578\n",
            "평균 제곱 오차 52.10225730069578\n",
            "평균 제곱 오차 52.1022573006958\n"
          ]
        }
      ]
    },
    {
      "cell_type": "markdown",
      "source": [
        "# 의사결정나무 회귀\n",
        "### DecisionTreeRegressor"
      ],
      "metadata": {
        "id": "6OttJ7lt3Wkt"
      }
    },
    {
      "cell_type": "code",
      "source": [
        "from sklearn.tree import DecisionTreeRegressor\n",
        "\n",
        "model = DecisionTreeRegressor()\n",
        "model.fit(X_train, y_train)\n",
        "\n",
        "from sklearn.metrics import mean_squared_error\n",
        "\n",
        "dy_preds = model.predict(X_test)\n",
        "print('평균제곱근오차', mean_squared_error(dy_preds, y_test))"
      ],
      "metadata": {
        "colab": {
          "base_uri": "https://localhost:8080/"
        },
        "id": "Z7oWDC5v3gbs",
        "outputId": "4d41881b-6927-459f-b393-6b813955c156"
      },
      "execution_count": null,
      "outputs": [
        {
          "output_type": "stream",
          "name": "stdout",
          "text": [
            "평균제곱근오차 94.08935064935064\n"
          ]
        }
      ]
    },
    {
      "cell_type": "markdown",
      "source": [
        "# 랜덤포레스트 회귀\n",
        "### RandomForestRegressor"
      ],
      "metadata": {
        "id": "AtyUL9ca34g_"
      }
    },
    {
      "cell_type": "code",
      "source": [
        "from sklearn.ensemble import RandomForestRegressor\n",
        "\n",
        "model = RandomForestRegressor()\n",
        "model.fit(X_train, y_train)\n",
        "\n",
        "from sklearn.metrics import mean_squared_error\n",
        "\n",
        "ry_preds = model.predict(X_test)\n",
        "print('평균 제곱 오차', mean_squared_error(ry_preds, y_test))"
      ],
      "metadata": {
        "colab": {
          "base_uri": "https://localhost:8080/"
        },
        "id": "cdGeOkxF3-MN",
        "outputId": "e8cd5dd2-548c-4ef6-8c78-23d76d67afb9"
      },
      "execution_count": null,
      "outputs": [
        {
          "output_type": "stream",
          "name": "stdout",
          "text": [
            "평균 제곱 오차 48.50394488961042\n"
          ]
        }
      ]
    }
  ]
}
