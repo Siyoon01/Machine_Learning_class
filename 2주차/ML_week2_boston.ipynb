{
  "nbformat": 4,
  "nbformat_minor": 0,
  "metadata": {
    "colab": {
      "provenance": []
    },
    "kernelspec": {
      "name": "python3",
      "display_name": "Python 3"
    },
    "language_info": {
      "name": "python"
    }
  },
  "cells": [
    {
      "cell_type": "code",
      "execution_count": null,
      "metadata": {
        "id": "kAYeLpHrXMpQ"
      },
      "outputs": [],
      "source": [
        "import numpy as np\n",
        "import pandas as pd\n",
        "import seaborn as sns\n",
        "from sklearn.model_selection import train_test_split\n",
        "import tensorflow as tf\n",
        "from tensorflow import keras\n",
        "from sklearn.model_selection import train_test_split\n",
        "from sklearn.linear_model import LinearRegression\n",
        "from sklearn.metrics import mean_squared_error, r2_score\n",
        "from sklearn.model_selection import train_test_split\n",
        "\n",
        "df = pd.read_csv(\"/content/drive/MyDrive/Colab Notebooks/ML/boston.csv\", index_col=0)\n"
      ]
    },
    {
      "cell_type": "code",
      "source": [
        "X = df.drop('PRICE',axis=1)\n",
        "y = df[\"PRICE\"]"
      ],
      "metadata": {
        "id": "yCytLXexd4wK"
      },
      "execution_count": null,
      "outputs": []
    },
    {
      "cell_type": "code",
      "source": [
        "X_train, X_test, y_train, y_test = train_test_split(\n",
        "    X, y, test_size=0.2, shuffle=True, random_state=12\n",
        "    )\n",
        "print(X_train.shape, y_train.shape)\n",
        "print(X_test.shape, y_test.shape)"
      ],
      "metadata": {
        "colab": {
          "base_uri": "https://localhost:8080/"
        },
        "id": "MrOuC3u6eFjL",
        "outputId": "22735776-fe4e-4f3a-c1b5-7efb5de4cc1c"
      },
      "execution_count": null,
      "outputs": [
        {
          "output_type": "stream",
          "name": "stdout",
          "text": [
            "(16512, 8) (16512,)\n",
            "(4128, 8) (4128,)\n"
          ]
        }
      ]
    },
    {
      "cell_type": "markdown",
      "source": [
        "# *선형회귀*\n",
        "## LinearRegression"
      ],
      "metadata": {
        "id": "rhphmvCSergG"
      }
    },
    {
      "cell_type": "code",
      "source": [
        "from sklearn.linear_model import LinearRegression\n",
        "from sklearn.metrics import mean_squared_error\n",
        "\n",
        "model = LinearRegression()\n",
        "model.fit(X_train, y_train)\n",
        "ly_preds = model.predict(X_test)\n",
        "\n",
        "print('평균제곱근오차', mean_squared_error(ly_preds, y_test))\n",
        "\n",
        "def mse_np(actual, predicted):\n",
        "    return np.mean((np.array(actual) - np.array(predicted)) ** 2)\n",
        "\n",
        "print('평균제곱근오차', mse_np(ly_preds, y_test))\n",
        "\n",
        "def mse(actual, predicted):\n",
        "    sum_square_error = sum((a - p) ** 2 for a, p in zip(actual, predicted))\n",
        "    mean_square_error = sum_square_error / len(actual)\n",
        "    return mean_square_error\n",
        "\n",
        "print('평균제곱근오차', mse(ly_preds, y_test))"
      ],
      "metadata": {
        "colab": {
          "base_uri": "https://localhost:8080/"
        },
        "id": "SBoudDq3er89",
        "outputId": "071edb61-5902-4dc0-c814-19413f8d385c"
      },
      "execution_count": null,
      "outputs": [
        {
          "output_type": "stream",
          "name": "stdout",
          "text": [
            "평균제곱근오차 0.5269927956248035\n",
            "평균제곱근오차 0.5269927956248035\n",
            "평균제곱근오차 0.5269927956248022\n"
          ]
        }
      ]
    },
    {
      "cell_type": "markdown",
      "source": [
        "#의사결정나무 회귀\n",
        "###DecisionTreeRegressor"
      ],
      "metadata": {
        "id": "b1HPkl_-PjE3"
      }
    },
    {
      "cell_type": "code",
      "source": [
        "from sklearn.tree import DecisionTreeRegressor\n",
        "\n",
        "model = DecisionTreeRegressor()\n",
        "model.fit(X_train, y_train)\n",
        "\n",
        "from sklearn.metrics import mean_squared_error\n",
        "\n",
        "dy_preds = model.predict(X_test)\n",
        "print('평균제곱근오차', mean_squared_error(dy_preds, y_test))"
      ],
      "metadata": {
        "colab": {
          "base_uri": "https://localhost:8080/"
        },
        "id": "H4KchwQ3PkL-",
        "outputId": "49cd267f-17c2-49c9-b664-de95fff679e5"
      },
      "execution_count": null,
      "outputs": [
        {
          "output_type": "stream",
          "name": "stdout",
          "text": [
            "평균제곱근오차 0.46235298688902615\n"
          ]
        }
      ]
    },
    {
      "cell_type": "markdown",
      "source": [
        "#랜덤포래스트 회귀\n",
        "###RandomForestRegressor"
      ],
      "metadata": {
        "id": "u6rqd2alR7fP"
      }
    },
    {
      "cell_type": "code",
      "source": [
        "from sklearn.ensemble import RandomForestRegressor\n",
        "\n",
        "model = RandomForestRegressor()\n",
        "model.fit(X_train, y_train)\n",
        "\n",
        "from sklearn.metrics import mean_squared_error\n",
        "\n",
        "ry_preds = model.predict(X_test)\n",
        "print('평균제곱근오차', mean_squared_error(ry_preds, y_test))"
      ],
      "metadata": {
        "colab": {
          "base_uri": "https://localhost:8080/"
        },
        "id": "yXWWeg41SCXT",
        "outputId": "3540d3dd-c99a-4d71-e3a6-963f8190d194"
      },
      "execution_count": null,
      "outputs": [
        {
          "output_type": "stream",
          "name": "stdout",
          "text": [
            "평균제곱근오차 0.25195465691832286\n"
          ]
        }
      ]
    }
  ]
}
